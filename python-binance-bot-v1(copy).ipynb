{
 "cells": [
  {
   "cell_type": "code",
   "execution_count": null,
   "metadata": {},
   "outputs": [],
   "source": [
    "import pandas as pd\n",
    "import numpy as np\n",
    "import csv\n",
    "import os\n",
    "import twilio\n",
    "import math\n",
    "from datetime import datetime, timedelta \n",
    "import pywhatkit\n",
    "import sched, time\n",
    "from scipy import stats\n",
    "from itertools import compress\n",
    "\n",
    "from binance.client import Client\n",
    "from binance.websockets import BinanceSocketManager\n",
    "from binance.enums import *\n",
    "from binance.exceptions import BinanceAPIException, BinanceOrderException\n",
    "\n",
    "from twisted.internet import reactor\n",
    "from matplotlib import pyplot as plt\n",
    "\n",
    "import warnings\n",
    "warnings.filterwarnings(action='ignore')"
   ]
  },
  {
   "cell_type": "code",
   "execution_count": null,
   "metadata": {},
   "outputs": [],
   "source": [
    "#parameters\n",
    "\n",
    "api_key = 'YourAPIKey'\n",
    "api_secret = 'YourSecret'\n",
    "client = Client(api_key, api_secret)\n",
    "\n",
    "\n",
    "interval = '15m'\n",
    "days_data = 30\n",
    "roll1 = 5\n",
    "roll2 = 14\n",
    "roll3 = 20\n",
    "\n",
    "len_pattern = 3"
   ]
  },
  {
   "cell_type": "code",
   "execution_count": null,
   "metadata": {},
   "outputs": [],
   "source": [
    "\n",
    "# # get market depth\n",
    "# depth = client.get_order_book(symbol='BNBBTC')\n",
    "\n",
    "# # place a test market buy order, to place an actual order use the create_order function\n",
    "# order = client.create_test_order(\n",
    "#     symbol='BNBBTC',\n",
    "#     side=Client.SIDE_BUY,\n",
    "#     type=Client.ORDER_TYPE_MARKET,\n",
    "#     quantity=100)"
   ]
  },
  {
   "cell_type": "code",
   "execution_count": null,
   "metadata": {},
   "outputs": [],
   "source": [
    "# get balance for a specific asset only (BTC)\n",
    "print(client.get_asset_balance(asset='ONE')['free'])"
   ]
  },
  {
   "cell_type": "markdown",
   "metadata": {},
   "source": [
    "# functions"
   ]
  },
  {
   "cell_type": "code",
   "execution_count": null,
   "metadata": {},
   "outputs": [],
   "source": [
    "def send_notification(string):\n",
    "    d =datetime.today()\n",
    "    p_list = ['list of numbers']\n",
    "    num = [1,2,3]\n",
    "    c = 1\n",
    "    for ph in p_list:\n",
    "        print('Sending to:' , ph)\n",
    "        pywhatkit.sendwhatmsg(ph, string, d.hour, d.minute+c)\n",
    "        c += 1\n",
    "    print('success!')"
   ]
  },
  {
   "cell_type": "code",
   "execution_count": null,
   "metadata": {},
   "outputs": [],
   "source": [
    "# create a real order with raise an exception\n",
    "\n",
    "def fire_an_order(sym , qty):\n",
    "    try:\n",
    "        buy_limit = client.create_order(symbol=sym, side='BUY', type='MARKET',quantity = qty )\n",
    "        print('order placed!!!!!!!!! : ', buy_limit)\n",
    "        return buy_limit\n",
    "    except BinanceAPIException as e:\n",
    "        # error handling goes here\n",
    "        return e\n",
    "    except BinanceOrderException as e:\n",
    "        # error handling goes here\n",
    "        return e"
   ]
  },
  {
   "cell_type": "code",
   "execution_count": null,
   "metadata": {},
   "outputs": [],
   "source": [
    "def sell_off(sym , qty):\n",
    "    try:\n",
    "        sell = client.order_market_sell(symbol=sym, quantity= qty )\n",
    "        return sell\n",
    "    except BinanceAPIException as e:\n",
    "        # error handling goes here\n",
    "        return e\n",
    "    except BinanceOrderException as e:\n",
    "        # error handling goes here\n",
    "        return e"
   ]
  },
  {
   "cell_type": "code",
   "execution_count": null,
   "metadata": {},
   "outputs": [],
   "source": [
    "def get_precision(cryp):\n",
    "    symbol_info = client.get_symbol_info(cryp)\n",
    "    step_size = 0.0\n",
    "    for f in symbol_info['filters']:\n",
    "        if f['filterType'] == 'LOT_SIZE':\n",
    "            step_size = float(f['stepSize'])\n",
    "    return int(round(-math.log(step_size, 10), 0))"
   ]
  },
  {
   "cell_type": "code",
   "execution_count": null,
   "metadata": {},
   "outputs": [],
   "source": [
    "def strictly_increasing(L):\n",
    "    return all(x<y for x, y in zip(L, L[1:]))"
   ]
  },
  {
   "cell_type": "code",
   "execution_count": null,
   "metadata": {},
   "outputs": [],
   "source": [
    "#fire_an_order('CELRUSDT' , qty)"
   ]
  },
  {
   "cell_type": "code",
   "execution_count": null,
   "metadata": {},
   "outputs": [],
   "source": [
    "# def btc_trade_history(msg):\n",
    "#     ''' define how to process incoming WebSocket messages '''\n",
    "#     if msg['e'] != 'error':\n",
    "#         print(msg['c'])\n",
    "#         btc_price['last'] = msg['c']\n",
    "#         btc_price['bid'] = msg['b']\n",
    "#         btc_price['last'] = msg['a']\n",
    "#     else:\n",
    "#         btc_price['error'] = True"
   ]
  },
  {
   "cell_type": "code",
   "execution_count": null,
   "metadata": {},
   "outputs": [],
   "source": [
    "# # init\n",
    "# api_key = os.environ.get('binance_api')\n",
    "# api_secret = os.environ.get('binance_secret')\n",
    "\n",
    "# client = Client(api_key, api_secret)\n",
    "# btc_price = {'error':False}\n",
    "\n",
    "# # init and start the WebSocket\n",
    "# bsm = BinanceSocketManager(client)\n",
    "# conn_key = bsm.start_symbol_ticker_socket('BTCUSDT', btc_trade_history)\n",
    "# bsm.start()"
   ]
  },
  {
   "cell_type": "code",
   "execution_count": null,
   "metadata": {},
   "outputs": [],
   "source": [
    "# # stop websocket\n",
    "# bsm.stop_socket(conn_key)\n",
    "\n",
    "# # properly terminate WebSocket\n",
    "# reactor.stop()"
   ]
  },
  {
   "cell_type": "code",
   "execution_count": null,
   "metadata": {},
   "outputs": [],
   "source": [
    "coin_list = ['BTCUSDT',\t'ETHUSDT',\t'BNBUSDT',\t'DOGEUSDT',\t'ADAUSDT',\t'XRPUSDT',\t'DOTUSDT',\t'BCHUSDT',\t'LTCUSDT',\t'LINKUSDT',\t'UNIUSDT',\t'VETUSDT',\t'XLMUSDT',\t'ETCUSDT',\t'SOLUSDT',\t'THETAUSDT',\t'TRXUSDT',\t'FILUSDT',\t'WBTCUSDT',\t'EOSUSDT',\t'XMRUSDT',\t'NEOUSDT',\t'LUNAUSDT',\t'BSVUSDT',\t'CAKEUSDT',\t'MIOTAUSDT',\t'ATOMUSDT',\t'FTTUSDT',\t'AAVEUSDT',\t'SHIBUSDT',\t'KLAYUSDT',\t'XTZUSDT',\t'MKRUSDT',\t'MATICUSDT',\t'HTUSDT',\t'AVAXUSDT',\t'BTTUSDT',\t'DAIUSDT',\t'ALGOUSDT',\t'CROUSDT',\t'RUNEUSDT',\t'DASHUSDT',\t'COMPUSDT',\t'KSMUSDT',\t'ZECUSDT',\t'XEMUSDT',\t'WAVESUSDT',\t'EGLDUSDT',\t'BTCBUSDT',\t'LEOUSDT',\t'DCRUSDT',\t'CHZUSDT',\t'ZILUSDT',\t'QTUMUSDT',\t'HOTUSDT',\t'HBARUSDT',\t'TELUSDT',\t'FTMUSDT',\t'MANAUSDT',\t'NEXOUSDT',\t'ONTUSDT',\t'BTGUSDT',\t'STXUSDT',\t'USTUSDT',\t'BATUSDT',\t'TFUELUSDT',\t'SNXUSDT',\t'DGBUSDT',\t'ENJUSDT',\t'SUSHIUSDT',\t'OKBUSDT',\t'YFIUSDT',\t'GRTUSDT',\t'NEARUSDT',\t'SCUSDT',\t'CELUSDT',\t'ICXUSDT',\t'OMGUSDT',\t'UMAUSDT',\t'ZENUSDT',\t'ZRXUSDT',\t'BCDUSDT',\t'RVNUSDT',\t'BNTUSDT',\t'HNTUSDT',\t'XVSUSDT',\t'CHSBUSDT',\t'NANOUSDT',\t'ONEUSDT',\t'CELOUSDT',\t'XVGUSDT',\t'RSRUSDT',\t'TUSDUSDT',\t'BAKEUSDT',\t'REVUSDT',\t'ANKRUSDT',\t'1INCHUSDT',\t'KCSUSDT',\t'LSKUSDT',\t'IOSTUSDT',\t'RENUSDT',\t'CRVUSDT',\t'VGXUSDT',\t'FLOWUSDT',\t'DENTUSDT',\t'ARUSDT',\t'RENBTCUSDT',\t'CFXUSDT',\t'HUSDUSDT',\t'WRXUSDT',\t'LPTUSDT',\t'SNTUSDT',\t'LRCUSDT',\t'KNCUSDT',\t'OCEANUSDT',\t'BTMXUSDT',\t'CKBUSDT',\t'STORJUSDT',\t'PROMUSDT',\t'VTHOUSDT',\t'BTCSTUSDT',\t'GTUSDT',\t'SKLUSDT',\t'MDXUSDT',\t'REEFUSDT',\t'RLCUSDT',\t'SRMUSDT',\t'WOOUSDT',\t'REPUSDT',\t'GLMUSDT',\t'IOTXUSDT',\t'QNTUSDT',\t'ALPHAUSDT',\t'ABBCUSDT',\t'INJUSDT',\t'BALUSDT',\t'SXPUSDT',\t'CTSIUSDT',\t'FUNUSDT',\t'EWTUSDT',\t'OGNUSDT',\t'ZKSUSDT',\t'STEEMUSDT',\t'KAVAUSDT',\t'KMDUSDT',\t'STRAXUSDT',\t'GNOUSDT',\t'ARDRUSDT',\t'STMXUSDT',\t'USDNUSDT',\t'ANTUSDT',\t'FETUSDT',\t'DODOUSDT',\t'WINUSDT',\t'CVCUSDT',\t'BTSUSDT',\t'WAXPUSDT',\t'NKNUSDT',\t'MCOUSDT',\t'MAIDUSDT',\t'BANDUSDT',\t'SANDUSDT',\t'XHVUSDT',\t'AGIUSDT',\t'UTKUSDT',\t'SWAPUSDT',\t'SYSUSDT',\t'NMRUSDT',\t'MEDUSDT',\t'ORBSUSDT',\t'WANUSDT',\t'JSTUSDT',\t'BADGERUSDT',\t'NUUSDT',\t'BTMUSDT',\t'UQCUSDT',\t'CELRUSDT',\t'KINUSDT',\t'ARKUSDT',\t'UBTUSDT',\t'PPTUSDT',\t'VLXUSDT',\t'ONGUSDT',\t'ZBUSDT',\t'MTLUSDT',\t'AIONUSDT',\t'AVAUSDT',\t'VAIUSDT',\t'AMPLUSDT',\t'POLYUSDT',\t'HNSUSDT',\t'XORUSDT',\t'COTIUSDT',\t'RIFUSDT',\t'ALICEUSDT',\t'SNMUSDT'] "
   ]
  },
  {
   "cell_type": "code",
   "execution_count": null,
   "metadata": {},
   "outputs": [],
   "source": [
    "#timestamp = client._get_earliest_valid_timestamp('BTCUSDT', '1h', 'spot')"
   ]
  },
  {
   "cell_type": "code",
   "execution_count": null,
   "metadata": {},
   "outputs": [],
   "source": [
    "#Full data load\n",
    "def flow_data(cryp, inter, latest): \n",
    "    try:\n",
    "        # valid intervals - 1m, 3m, 5m, 15m, 30m, 1h, 2h, 4h, 6h, 8h, 12h, 1d, 3d, 1w, 1M\n",
    "        print('Importing data for:', cryp)\n",
    "        # get timestamp of earliest date data is available\n",
    "        timestamp = client._get_earliest_valid_timestamp(cryp, inter, 'spot')\n",
    "        flow = client.get_historical_klines(cryp, inter, timestamp, latest.strftime(\"%d %B, %Y\"))\n",
    "        for line in flow:\n",
    "            del line[9:]\n",
    "\n",
    "        #create a Pandas DataFrame and export to CSV\n",
    "        df = pd.DataFrame(flow, columns=['date','open','high','low','close','volume','close_time','quote_ast_vol','total_trade'])\n",
    "        df.set_index('date', inplace=True)\n",
    "        df.drop(columns = ['close_time', 'quote_ast_vol'], inplace = True)\n",
    "        df = df.apply(pd.to_numeric)\n",
    "        df['crypto'] = cryp\n",
    "        df.drop(df.tail(1).index,inplace=True)\n",
    "        return df\n",
    "    except:\n",
    "        pass\n",
    "    \n",
    "duration = datetime.today() - timedelta(days = days_data)\n",
    "crypto_data = pd.DataFrame() \n",
    "for cr in coin_list:\n",
    "    crypto_data = crypto_data.append(flow_data(cr, interval, duration))\n",
    "\n",
    "path = 'C:\\\\Users\\\\shivshre\\\\OneDrive -\\\\binance\\\\' +'all_crypto_data_'+interval +'.csv'\n",
    "crypto_data.to_csv(path)"
   ]
  },
  {
   "cell_type": "code",
   "execution_count": null,
   "metadata": {},
   "outputs": [],
   "source": [
    "path = 'C:\\\\Users\\\\shivshre\\\\OneDrive - \\\\binance\\\\' +'all_crypto_data_'+interval +'.csv'\n",
    "crypto_data = pd.read_csv(path)\n",
    "crypto_data.set_index('date', inplace=True)"
   ]
  },
  {
   "cell_type": "code",
   "execution_count": null,
   "metadata": {},
   "outputs": [],
   "source": [
    "# Delta data: fetch parametrizedklines  \n",
    "#client.get_historical_klines('BTCUSDT', '1h', your_dt.strftime(\"%d %B, %Y\"))\n",
    "def flow_data_delta(cryp, interv): \n",
    "    # valid intervals - 1m, 3m, 5m, 15m, 30m, 1h, 2h, 4h, 6h, 8h, 12h, 1d, 3d, 1w, 1M\n",
    "    #print('Importing data for:', cryp)\n",
    "           \n",
    "    latest = datetime.fromtimestamp(int(crypto_data[(crypto_data.crypto == cryp)].index.max())/1000)\n",
    "    latest = latest-timedelta(days=1)\n",
    "    #flow = client.get_historical_klines(cryp, interv, \"15 May, 2021\")\n",
    "    flow = client.get_historical_klines(cryp, interv, latest.strftime(\"%d %B, %Y\"))\n",
    "    for line in flow:\n",
    "        del line[9:]\n",
    "\n",
    "    #create a Pandas DataFrame and export to CSV\n",
    "    df = pd.DataFrame(flow, columns=['date','open','high','low','close','volume','close_time','quote_ast_vol','total_trade'])\n",
    "    df.set_index('date', inplace=True)\n",
    "    df.drop(columns = ['close_time', 'quote_ast_vol'], inplace = True)\n",
    "    df = df.apply(pd.to_numeric)\n",
    "    df['crypto'] = cryp\n",
    "    #df.drop(df.tail(1).index,inplace=True)\n",
    "    #crypto_data = crypto_data.append(df)\n",
    "    return df"
   ]
  },
  {
   "cell_type": "code",
   "execution_count": null,
   "metadata": {
    "scrolled": true
   },
   "outputs": [],
   "source": [
    "#crypto_data = pd.DataFrame() \n",
    "def delta_caller(crypto_data):\n",
    "    print('Importing delta data...')\n",
    "    for cr in crypto_data.crypto.unique(): #['BTCUSDT', 'NEOUSDT']:\n",
    "        crypto_data = crypto_data.append(flow_data_delta(cr, interval))\n",
    "    #crypto_data.drop_duplicates( inplace =True)  \n",
    "    crypto_data = crypto_data.reset_index().drop_duplicates([\"crypto\", 'date']).set_index('date')\n",
    "    path = 'C:\\\\Users\\\\shivshre\\\\OneDrive -\\Documents\\\\binance\\\\' +'all_crypto_data_'+interval +'.csv'\n",
    "    crypto_data.to_csv(path)\n",
    "    print('Import successful!')\n",
    "    return crypto_data\n",
    "#latest = datetime.fromtimestamp(int(crypto_data[(crypto_data.crypto == 'BNBUSDT')].index.max())/1000)\n",
    "# latest = datetime.fromtimestamp(int(crypto_data.index.max())/1000)\n",
    "# print('Data imported till:', latest.strftime(\"%d %B %Y,  %H %M\"))\n",
    "\n"
   ]
  },
  {
   "cell_type": "markdown",
   "metadata": {},
   "source": [
    "# Moving average"
   ]
  },
  {
   "cell_type": "code",
   "execution_count": null,
   "metadata": {},
   "outputs": [],
   "source": [
    "def alt_for_investment(crypto_data , roll1,roll2, roll3, len_pattern):\n",
    "    print('check for investment!!')\n",
    "    crypto_data = delta_caller(crypto_data)\n",
    "    crypto_data['rolling_1'] = crypto_data.groupby('crypto')['close'].transform(lambda x: x.rolling(roll1).mean()).values\n",
    "    crypto_data['rolling_2'] = crypto_data.groupby('crypto')['close'].transform(lambda x: x.rolling(roll2).mean()).values\n",
    "    crypto_data['rolling_3'] = crypto_data.groupby('crypto')['close'].transform(lambda x: x.rolling(roll3).mean()).values\n",
    "    crypto_data['candle_length'] = ((crypto_data.close - crypto_data.open)/crypto_data.open)*100\n",
    "\n",
    "#     crypto_data['rolling_1'] = crypto_data.groupby(['crypto']).apply(lambda x: x['close'].ewm(span=roll1).mean()).values\n",
    "#     crypto_data['rolling_2'] = crypto_data.groupby(['crypto']).apply(lambda x: x['close'].ewm(span=roll2).mean()).values\n",
    "#     crypto_data['rolling_3'] = crypto_data.groupby(['crypto']).apply(lambda x: x['close'].ewm(span=roll3).mean()).values\n",
    "    \n",
    "    crypto_data['ratio1'] = np.divide(crypto_data.rolling_1, crypto_data.rolling_2)\n",
    "    crypto_data['ratio2'] = np.divide(crypto_data.rolling_2, crypto_data.rolling_3)\n",
    "    tails = crypto_data.groupby('crypto').tail(len_pattern)\n",
    "    tails = tails[(tails.ratio1 >1)]# & (tails.ratio2 >1)]\n",
    "    tails['candle_length'] = ((tails.close - tails.open)/tails.open)*100\n",
    "    max_min = list(compress(tails.crypto.unique(), (tails.groupby('crypto')['candle_length'].max() <10) & \\\n",
    "                           (tails.groupby('crypto')['candle_length'].min() > -5 )))\n",
    "\n",
    "    increasing = pd.DataFrame(columns=['coin' , 'flag'])\n",
    "    for coin in tails.crypto:\n",
    "        test = tails[(tails.crypto == coin)]\n",
    "        if test.shape[0] == len_pattern:\n",
    "            new_row= {'coin': coin , 'flag': strictly_increasing(list(test.ratio1.values))}\n",
    "            increasing = increasing.append(new_row,  ignore_index=True)\n",
    "    increasing = increasing[(increasing.flag == True)]\n",
    "    \n",
    "#     last_candle = tails.groupby('crypto').tail(1)\n",
    "#     last_candle = last_candle[(last_candle.open < last_candle.close)] \n",
    "    green_candle = crypto_data.sort_index()\n",
    "    green_candle = green_candle.groupby('crypto').tail(5)\n",
    "    green_candle = pd.DataFrame(green_candle[(green_candle.candle_length > 0)].groupby('crypto')['candle_length'].count()).reset_index()\n",
    "    green_candle = green_candle[(green_candle.candle_length > 1)]\n",
    "\n",
    "    tails = tails[(tails.crypto.isin(increasing.coin) & (tails.crypto.isin(max_min))) &(tails.crypto.isin(green_candle.crypto))]\n",
    "    \n",
    "    tails = tails.sort_index().groupby('crypto').tail(1)\n",
    "    ready_for_fire = list(tails.sort_values('ratio1',ascending=False).crypto)[0]\n",
    "    qty = pd.to_numeric(client.get_asset_balance(asset='USDT')['free']) /tails[(tails.crypto == ready_for_fire)].close.values[0]\n",
    "    return ready_for_fire , qty"
   ]
  },
  {
   "cell_type": "code",
   "execution_count": null,
   "metadata": {},
   "outputs": [],
   "source": [
    "def order_caller(crypto_data, roll1, roll2,roll3, len_pattern): \n",
    "    print('Order caller open!!!')\n",
    "    try:\n",
    "        entry_cryp, quantity = alt_for_investment(crypto_data, roll1, roll2,roll3, len_pattern)\n",
    "        #buy_order = client.create_test_order(symbol=entry_cryp, side='BUY', type='MARKET', quantity=100)  \n",
    "        quantity = round(quantity*0.95, get_precision(entry_cryp))\n",
    "        last_order = fire_an_order(entry_cryp , quantity)\n",
    "        return entry_cryp, quantity, last_order\n",
    "    except:\n",
    "        pass"
   ]
  },
  {
   "cell_type": "markdown",
   "metadata": {},
   "source": [
    "## exit"
   ]
  },
  {
   "cell_type": "code",
   "execution_count": null,
   "metadata": {},
   "outputs": [],
   "source": [
    "def exit_enter(crypto_data, crypto, qty, roll1, roll2,roll3, len_pattern):\n",
    "    print('exit enter open!!!')\n",
    "    invested_flow =  flow_data_delta(crypto, '15m')\n",
    "    invested_flow.drop(invested_flow.tail(1).index,inplace=True)\n",
    "    invested_flow['rolling_1']=invested_flow.groupby('crypto')['close'].transform(lambda x: x.rolling(roll1).mean()).values\n",
    "    invested_flow['rolling_2']=invested_flow.groupby('crypto')['close'].transform(lambda x: x.rolling(roll2).mean()).values\n",
    "\n",
    "    sell_cutoff = invested_flow.tail(1).rolling_2.values[0]\n",
    "    \n",
    "    if (invested_flow.tail(1).close.values[0] > sell_cutoff)  & (invested_flow.tail(2).close.values[0] > sell_cutoff):\n",
    "        print('continue')\n",
    "    else: \n",
    "        sell_log = sell_off(crypto,round(client.get_asset_balance(asset=crypto.replace('USDT', ''))['free'],get_precision(crypto))\n",
    "        #sell = client.order_market_sell(symbol='CELRUSDT', quantity= qty)\n",
    "        print('order fulfillment!!!!!!!!! :', sell_log)\n",
    "        all_tra = pd.read_csv('all_transaction.csv').append(last_tra, ignore_index=True)\n",
    "        last_tra = pd.DataFrame([[crypto , sell_log['origQty'],sell_log['price']]], columns= ['crypto','quant','price'])\n",
    "        entry_cryp, quantity, last_order = order_caller(crypto_data, roll1, roll2,roll3, len_pattern)\n",
    "        last_tra = pd.DataFrame([[entry_cryp , last_order['origQty'],last_order['price']]], columns= ['crypto','quant','price'])\n",
    "        last_tra.to_csv('last_transaction.csv', index=False)\n",
    "        \n",
    "        all_tra.to_csv('all_transaction.csv', index=False)\n",
    "        print('order placed!!!!!!!!! : ', entry_cryp, quantity, last_order)\n",
    "        #return entry_cryp, quantity, last_order"
   ]
  },
  {
   "cell_type": "code",
   "execution_count": null,
   "metadata": {},
   "outputs": [],
   "source": [
    "#exit_enter(entry_cryp, last_order['origQty'],roll1, roll2,roll3, len_pattern)"
   ]
  },
  {
   "cell_type": "markdown",
   "metadata": {},
   "source": [
    "# Function caller"
   ]
  },
  {
   "cell_type": "code",
   "execution_count": null,
   "metadata": {},
   "outputs": [],
   "source": [
    "#crypto_data = crypto_data[(crypto_data.crypto != 'PAXUSDT')]"
   ]
  },
  {
   "cell_type": "code",
   "execution_count": null,
   "metadata": {
    "scrolled": true
   },
   "outputs": [],
   "source": [
    "alt_for_investment(crypto_data, roll1, roll2,roll3, len_pattern)"
   ]
  },
  {
   "cell_type": "code",
   "execution_count": null,
   "metadata": {},
   "outputs": [],
   "source": [
    "#First time run\n",
    "try:\n",
    "    entry_cryp, quantity = alt_for_investment(crypto_data, roll1, roll2,roll3, len_pattern)\n",
    "    #buy_order = client.create_test_order(symbol=entry_cryp, side='BUY', type='MARKET', quantity=100)  \n",
    "    quantity = round(quantity*0.95, get_precision(entry_cryp))\n",
    "    last_order = fire_an_order(entry_cryp , quantity)\n",
    "    last_tra = pd.DataFrame([[entry_cryp ,last_order['origQty'],last_order['price']]],columns= ['crypto' , 'quant', 'price'])\n",
    "    last_tra.to_csv('last_transaction.csv', index=False)\n",
    "except:\n",
    "    pass"
   ]
  },
  {
   "cell_type": "code",
   "execution_count": null,
   "metadata": {
    "scrolled": true
   },
   "outputs": [],
   "source": [
    "s = sched.scheduler(time.time, time.sleep)\n",
    "def do_something(sc, crypto_data, coin, quant, roll1, roll2,roll3, len_pattern): \n",
    "    print(\"Doing stuff...\")\n",
    "    tt = pd.read_csv('last_transaction.csv')\n",
    "    coin = tt.crypto[0]\n",
    "    quant = tt.quant[0]\n",
    "    try:\n",
    "        exit_enter(crypto_data, coin, quant, roll1, roll2,roll3, len_pattern)\n",
    "    except:\n",
    "        pass\n",
    "    sc.enter(900, 1, do_something, (sc, crypto_data, coin, quant,roll1, roll2,roll3, len_pattern))\n",
    "\n",
    "    \n",
    "tt = pd.read_csv('last_transaction.csv')\n",
    "coin = tt.crypto[0]\n",
    "quant = tt.quant[0]\n",
    "s.enter(10, 1, do_something, (s,crypto_data, coin, quant,roll1, roll2,roll3, len_pattern))\n",
    "s.run()"
   ]
  },
  {
   "cell_type": "code",
   "execution_count": null,
   "metadata": {},
   "outputs": [],
   "source": [
    "# s = sched.scheduler(time.time, time.sleep)\n",
    "# def do_something(sc, crypto_data, entry_cryp, last_order['origQty'], roll1, roll2,roll3, len_pattern): \n",
    "#     print(\"Doing stuff...\")\n",
    "#     exit_enter(crypto_data, entry_cryp, last_order['origQty'], roll1, roll2,roll3, len_pattern)\n",
    "#     # do your stuff\n",
    "#     sc.enter(90, 1, do_something, (sc, crypto_data, entry_cryp, last_order['origQty'],roll1, roll2,roll3, len_pattern))\n",
    "\n",
    "# s.enter(90, 1, do_something, (s,crypto_data, entry_cryp, last_order['origQty'],roll1, roll2,roll3, len_pattern))\n",
    "# s.run()"
   ]
  },
  {
   "cell_type": "code",
   "execution_count": null,
   "metadata": {},
   "outputs": [],
   "source": []
  },
  {
   "cell_type": "code",
   "execution_count": null,
   "metadata": {},
   "outputs": [],
   "source": []
  },
  {
   "cell_type": "code",
   "execution_count": null,
   "metadata": {},
   "outputs": [],
   "source": []
  },
  {
   "cell_type": "markdown",
   "metadata": {},
   "source": [
    "# visuals"
   ]
  },
  {
   "cell_type": "code",
   "execution_count": null,
   "metadata": {},
   "outputs": [],
   "source": [
    "import pandas as pd\n",
    "import numpy as np\n",
    "import matplotlib.pyplot as plt\n",
    "import matplotlib as mpl\n",
    "\n",
    "cryptooo = entry_cryp\n",
    "lent =  crypto_data[(crypto_data.crypto == cryptooo)].shape[0] -100\n",
    "ema5 = crypto_data[(crypto_data.crypto == cryptooo)].close.rolling(5).mean()[lent:]\n",
    "ema10 = crypto_data[(crypto_data.crypto == cryptooo)].close.rolling(10).mean()[lent:]\n",
    "ema20 = crypto_data[(crypto_data.crypto == cryptooo)].close.rolling(20).mean()[lent:]\n",
    "plt.figure(figsize = (12,6))\n",
    "plt.plot(crypto_data[(crypto_data.crypto == cryptooo)].close[lent:], label=\"Price\")\n",
    "plt.plot(ema5, label=\"5-hour EMA\")\n",
    "plt.plot(ema10, label=\"10-hour EMA\")\n",
    "plt.plot(ema20, label=\"20-hour EMA\")\n",
    "plt.xlabel(\"Date\")\n",
    "plt.ylabel(\"Price\")\n",
    "plt.legend()\n",
    "plt.show()"
   ]
  },
  {
   "cell_type": "code",
   "execution_count": null,
   "metadata": {},
   "outputs": [],
   "source": [
    "crypto_data[(crypto_data.crypto == cryptooo)].close.ewm(span=10).mean()"
   ]
  },
  {
   "cell_type": "code",
   "execution_count": null,
   "metadata": {},
   "outputs": [],
   "source": [
    "crypto_data[(crypto_data.crypto == cryptooo)]"
   ]
  }
 ],
 "metadata": {
  "kernelspec": {
   "display_name": "Python 3",
   "language": "python",
   "name": "python3"
  },
  "language_info": {
   "codemirror_mode": {
    "name": "ipython",
    "version": 3
   },
   "file_extension": ".py",
   "mimetype": "text/x-python",
   "name": "python",
   "nbconvert_exporter": "python",
   "pygments_lexer": "ipython3",
   "version": "3.8.3"
  }
 },
 "nbformat": 4,
 "nbformat_minor": 4
}
